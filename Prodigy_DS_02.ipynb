{
 "cells": [
  {
   "cell_type": "code",
   "execution_count": null,
   "metadata": {},
   "outputs": [],
   "source": [
    "import matplotlib.pyplot as plt\n",
    "import numpy as np\n",
    "import pandas as pd\n",
    "import seaborn as sns"
   ]
  },
  {
   "cell_type": "code",
   "execution_count": null,
   "metadata": {},
   "outputs": [],
   "source": [
    "Data=pd.read_csv('Titanic_DataSet.csv')\n",
    "\n",
    "Data.head()"
   ]
  },
  {
   "cell_type": "code",
   "execution_count": null,
   "metadata": {},
   "outputs": [],
   "source": [
    "Data.shape"
   ]
  },
  {
   "cell_type": "code",
   "execution_count": null,
   "metadata": {},
   "outputs": [],
   "source": [
    "Data.info"
   ]
  },
  {
   "cell_type": "code",
   "execution_count": null,
   "metadata": {},
   "outputs": [],
   "source": [
    "Data.describe()"
   ]
  },
  {
   "cell_type": "code",
   "execution_count": null,
   "metadata": {},
   "outputs": [],
   "source": [
    "Data.isnull().sum()"
   ]
  },
  {
   "cell_type": "markdown",
   "metadata": {},
   "source": [
    "There are 177 null values in the age column\n",
    "687 in cabin column\n",
    "and 2 in embarked column \n",
    "\n",
    "We can drop the cabin column"
   ]
  },
  {
   "cell_type": "code",
   "execution_count": null,
   "metadata": {},
   "outputs": [],
   "source": [
    "Data.drop(columns=\"Cabin\",axis=1,inplace=True)"
   ]
  },
  {
   "cell_type": "markdown",
   "metadata": {},
   "source": [
    "Replacing the null values in the age column with the average value"
   ]
  },
  {
   "cell_type": "code",
   "execution_count": null,
   "metadata": {},
   "outputs": [],
   "source": [
    "Data['Age'].fillna(Data['Age'].mean(),inplace=True)"
   ]
  },
  {
   "cell_type": "markdown",
   "metadata": {},
   "source": [
    "Replacing the null values in the embarked column with the frequently occuring value"
   ]
  },
  {
   "cell_type": "code",
   "execution_count": null,
   "metadata": {},
   "outputs": [],
   "source": [
    "Data['Embarked'].fillna(Data['Embarked'].mode()[0],inplace=True)\n",
    "\n",
    "Data.isnull().sum()"
   ]
  },
  {
   "cell_type": "code",
   "execution_count": null,
   "metadata": {},
   "outputs": [],
   "source": [
    "#identifying duplicated data \n",
    "Data.duplicated().sum()"
   ]
  },
  {
   "cell_type": "markdown",
   "metadata": {},
   "source": [
    "Idenifying survival status of the passengers"
   ]
  },
  {
   "cell_type": "code",
   "execution_count": null,
   "metadata": {},
   "outputs": [],
   "source": [
    "Data['Survived']"
   ]
  },
  {
   "cell_type": "code",
   "execution_count": null,
   "metadata": {},
   "outputs": [],
   "source": [
    "Data['Survived'].value_counts()"
   ]
  },
  {
   "cell_type": "markdown",
   "metadata": {},
   "source": [
    "Survival Count Visualization"
   ]
  },
  {
   "cell_type": "code",
   "execution_count": null,
   "metadata": {},
   "outputs": [],
   "source": [
    "sns.countplot(x='Survived',data=Data,palette='viridis',)\n",
    "plt.xlabel(\"Survival status\")\n",
    "plt.ylabel(\"Number of people\")\n",
    "plt.xticks(ticks=[0,1],labels=['Not survived','survived'])\n",
    "plt.show()"
   ]
  },
  {
   "cell_type": "code",
   "execution_count": null,
   "metadata": {},
   "outputs": [],
   "source": [
    "plt.pie(Data['Survived'].value_counts(),explode=[0,0.04],autopct=\"%1.2f%%\",labels=['Not survived',\" Didn't Survive\"],startangle=90, colors=['#66b3ff','#ff9999'])\n",
    "plt.title('Survival of People')\n",
    "plt.show()\n"
   ]
  },
  {
   "cell_type": "markdown",
   "metadata": {},
   "source": [
    "Gender based survival Satistics"
   ]
  },
  {
   "cell_type": "code",
   "execution_count": null,
   "metadata": {},
   "outputs": [],
   "source": [
    "Data['Sex'].unique()\n"
   ]
  },
  {
   "cell_type": "code",
   "execution_count": null,
   "metadata": {},
   "outputs": [],
   "source": [
    "sns.countplot(x='Sex',data=Data,palette='viridis',)\n",
    "plt.xlabel(\"Gender\")\n",
    "plt.ylabel(\"Number of people\")\n",
    "plt.show()"
   ]
  },
  {
   "cell_type": "code",
   "execution_count": null,
   "metadata": {},
   "outputs": [],
   "source": [
    "#Using hue to add a second dimension to the survival statistics\n",
    "sns.countplot(x='Survived',hue='Sex',data=Data,palette='viridis',)\n",
    "plt.xlabel(\"Survival status\")\n",
    "plt.ylabel(\"Number of people\")\n",
    "plt.xticks(ticks=[0,1],labels=[\"Didn't  survive\",'survived'])\n",
    "plt.show()"
   ]
  },
  {
   "cell_type": "code",
   "execution_count": null,
   "metadata": {},
   "outputs": [],
   "source": [
    "Data[Data['Sex'] == 'male'].Survived.groupby(Data.Survived).count().plot(kind='pie',\n",
    "figsize=(3, 6),explode=[0,0.05],autopct='%1.1f%%',labels=[\"Didn't survive\",\"Survived\"])\n",
    "plt.ylabel(\"\")\n",
    "plt.title(\"Male survival rate\")\n",
    "plt.show()"
   ]
  },
  {
   "cell_type": "code",
   "execution_count": null,
   "metadata": {},
   "outputs": [],
   "source": [
    "Data[Data['Sex'] == 'female'].Survived.groupby(Data.Survived).count().plot(kind='pie',\n",
    "figsize=(3, 6),explode=[0,0.05],autopct='%1.1f%%',labels=[\"Didn't survive\",\"Survived\"])\n",
    "plt.ylabel(\"\")\n",
    "plt.title(\"Female survival rate\")\n",
    "plt.show()"
   ]
  },
  {
   "cell_type": "markdown",
   "metadata": {},
   "source": [
    "Observation : Survival rate of women was much higher compared to men"
   ]
  },
  {
   "cell_type": "markdown",
   "metadata": {},
   "source": [
    "Illustrating the passenger count for each ticket class"
   ]
  },
  {
   "cell_type": "code",
   "execution_count": null,
   "metadata": {},
   "outputs": [],
   "source": [
    "sns.countplot(x='Pclass',data=Data,palette='viridis',legend=False,hue='Pclass')\n",
    "plt.xlabel(\"Pclass\")\n",
    "plt.ylabel(\"Number of people\")\n",
    "plt.show()"
   ]
  },
  {
   "cell_type": "markdown",
   "metadata": {},
   "source": [
    "Visualisation of survival segmentated by ticket class"
   ]
  },
  {
   "cell_type": "code",
   "execution_count": null,
   "metadata": {},
   "outputs": [],
   "source": [
    "sns.countplot(x='Survived',hue='Pclass',data=Data,palette='viridis')\n",
    "plt.xlabel(\"Survival status\")\n",
    "plt.ylabel(\"Number of people\")\n",
    "plt.xticks(ticks=[0,1],labels=['Not survived','survived'])\n",
    "plt.show()"
   ]
  },
  {
   "cell_type": "markdown",
   "metadata": {},
   "source": [
    "Observation : The people with ticket class 3 had the lowest survival rate"
   ]
  },
  {
   "cell_type": "code",
   "execution_count": null,
   "metadata": {},
   "outputs": [],
   "source": [
    "sns.catplot(x = 'Pclass', hue = 'Survived', col = 'Sex', kind = 'count', data =\n",
    "Data,palette='viridis' )\n",
    "plt.tight_layout()"
   ]
  },
  {
   "cell_type": "markdown",
   "metadata": {},
   "source": [
    "Observation: Males of the ticket class 3 had the lowest survival rate"
   ]
  },
  {
   "cell_type": "markdown",
   "metadata": {},
   "source": [
    "Survival Distribution based on embarkment locations(Ports)"
   ]
  },
  {
   "cell_type": "code",
   "execution_count": null,
   "metadata": {},
   "outputs": [],
   "source": [
    "sns.countplot(x='Embarked', data=Data,palette='viridis')\n",
    "plt.xlabel(\"Embarked\")\n",
    "plt.ylabel(\"Number of people\")\n",
    "\n",
    "plt.show()"
   ]
  },
  {
   "cell_type": "code",
   "execution_count": null,
   "metadata": {},
   "outputs": [],
   "source": [
    "sns.countplot(x='Survived',hue='Embarked',data=Data,palette='viridis',)\n",
    "plt.xlabel(\"Survival status\")\n",
    "plt.ylabel(\"Number of people\")\n",
    "plt.xticks(ticks=[0,1],labels=['Not survived','survived'])\n",
    "plt.show()"
   ]
  },
  {
   "cell_type": "markdown",
   "metadata": {},
   "source": [
    "Visualisation of number of siblings/spouses (sibsp) and number of parents/children (parch) on board "
   ]
  },
  {
   "cell_type": "code",
   "execution_count": null,
   "metadata": {},
   "outputs": [],
   "source": [
    "fig,axes = plt.subplots(1, 2, figsize=(12, 6))\n",
    "sns.countplot(x='SibSp',data=Data,ax=axes[0],palette='viridis')\n",
    "sns.countplot(x='Parch',data=Data,ax=axes[1],palette='viridis')\n",
    "plt.show()"
   ]
  },
  {
   "cell_type": "code",
   "execution_count": null,
   "metadata": {},
   "outputs": [],
   "source": [
    "sns.countplot(x ='Survived', hue='SibSp',data=Data,palette='viridis')\n",
    "plt.xticks(ticks=[0,1],labels=['Not survived','survived'])\n",
    "plt.xlabel(\"Survival status\")\n",
    "plt.ylabel(\"Number of people\")\n",
    "plt.title(\"Survival population of Sibsp\")\n",
    "plt.show()\n",
    "\n",
    "sns.countplot(x ='Survived',hue='Parch',data=Data,palette='viridis')\n",
    "plt.xticks(ticks=[0,1],labels=['Not survived','survived'])\n",
    "plt.title(\"Survival population of Parch\")\n",
    "plt.xlabel(\"Survival status\")\n",
    "plt.ylabel(\"Number of people\")\n",
    "plt.show()"
   ]
  },
  {
   "cell_type": "markdown",
   "metadata": {},
   "source": [
    "Fare and Age patters with Kernel Density Estimation(KDE)"
   ]
  },
  {
   "cell_type": "code",
   "execution_count": null,
   "metadata": {},
   "outputs": [],
   "source": [
    "fig,axes = plt.subplots(1, 2, figsize=(12, 6))\n",
    "sns.histplot(Data['Fare'], kde=True,ax=axes[0])\n",
    "sns.histplot(Data['Age'].dropna(),kde=True,ax=axes[1])\n",
    "plt.show()"
   ]
  },
  {
   "cell_type": "markdown",
   "metadata": {},
   "source": [
    "Illustrating survival rates across different age groups"
   ]
  },
  {
   "cell_type": "code",
   "execution_count": null,
   "metadata": {},
   "outputs": [],
   "source": [
    "# Define cut points and label names\n",
    "cut_points = [ 0, 5, 12, 18, 35, 60, 100]\n",
    "label_names = [ 'Infant', \"Child\", 'Teenager', \"Young Adult\", 'Adult', 'Senior']\n",
    "\n",
    "# Create the \"Age_categories\" column\n",
    "Data['Age_categories'] = pd.cut(Data['Age'], bins=cut_points, labels=label_names,right=False)\n",
    "\n",
    "# Creating a pivot table for survival rates based on age categories\n",
    "age_cat_pivot = Data.pivot_table(index=\"Age_categories\", values=\"Survived\")\n",
    "\n",
    "# Define colors for each bar\n",
    "colors = ['blue', 'green', 'orange', 'purple', 'pink', 'brown']\n",
    "\n",
    "# Plotting the bar chart with different colors for each bar\n",
    "fig, ax = plt.subplots()\n",
    "bars = ax.bar(age_cat_pivot.index, age_cat_pivot['Survived'], color=colors)\n",
    "\n",
    "# Adding a legend with the specified colors\n",
    "handles = [plt.Rectangle((0, 0), 1, 1, color=colors[i]) for i in\n",
    "range(len(colors))]\n",
    "ax.legend(handles, label_names)\n",
    "ax.set_title('Survival Rates by Age Category')\n",
    "ax.set_xlabel('Age Category')\n",
    "ax.set_ylabel('Survival Rate')\n",
    "plt.xticks(rotation=40)\n",
    "plt.show()"
   ]
  },
  {
   "cell_type": "markdown",
   "metadata": {},
   "source": [
    "Observation : \n",
    "* Seniors had the lowest survival rate.\n",
    "* Infants had the highest survival rate"
   ]
  },
  {
   "cell_type": "markdown",
   "metadata": {},
   "source": [
    "Analysing Correlation"
   ]
  },
  {
   "cell_type": "code",
   "execution_count": null,
   "metadata": {},
   "outputs": [],
   "source": [
    "#replacing non numerical values with numerical values to find pairwise correlation between all columns\n",
    "Data.replace({'Sex':{'male':1,'female':0},'Embarked':{'S':0,'C':1,'Q':2}},inplace=True)\n",
    "\n",
    "Data.head\n",
    "\n",
    "Data_num = Data[['Fare','Parch','SibSp','Age','Sex','Pclass','Embarked','Survived']]\n",
    "\n",
    "sns.heatmap(Data_num.corr(),annot=True)\n",
    "plt.show()\n",
    "     "
   ]
  },
  {
   "cell_type": "markdown",
   "metadata": {},
   "source": [
    "Obsertvation : Fare,Parch,Sibsp,Age,Sex,Pclass,Embarked columns have correlation with Survival"
   ]
  },
  {
   "cell_type": "markdown",
   "metadata": {},
   "source": [
    "### Analysis Summary\n",
    "\n",
    "* **Gender-Based Survival Rates:**\n",
    "Women exhibited a significantly higher survival rate compared to men. This aligns with the \"women and children first\" evacuation protocol followed during the Titanic disaster, reflecting the societal norms of the time that prioritized the safety of women and children.\n",
    "\n",
    "* **Survival Rates by Passenger Class:**\n",
    "Passengers in Class 3, despite being the largest group, had the lowest survival rates. This suggests a strong link between socio-economic status and survival probability, with higher-class passengers likely having better access to lifeboats and emergency resources.\n",
    "\n",
    "* **Interaction Between Gender and Passenger Class:**\n",
    "Further analysis reveals that male passengers in Class 3 had the poorest survival rates. This indicates that both gender and socio-economic status significantly influenced survival chances, with lower-class males being the most at risk.\n",
    "\n",
    "* **Impact of Age on Survival:**\n",
    "Younger individuals showed lower survival rates, potentially due to the \"women and children first\" policy which prioritized older individuals. This highlights the significant role age played in determining survival outcomes.\n",
    "\n",
    "* **Factors Correlated with Survival:**\n",
    "Several variables were found to be significantly correlated with survival outcomes, including fare, gender, passenger class (Pclass), and embarkation point (Embarked). These factors are crucial for understanding the dynamics of survival during the Titanic disaster."
   ]
  },
  {
   "cell_type": "code",
   "execution_count": null,
   "metadata": {},
   "outputs": [],
   "source": []
  }
 ],
 "metadata": {
  "kernelspec": {
   "display_name": "Python 3",
   "language": "python",
   "name": "python3"
  },
  "language_info": {
   "codemirror_mode": {
    "name": "ipython",
    "version": 3
   },
   "file_extension": ".py",
   "mimetype": "text/x-python",
   "name": "python",
   "nbconvert_exporter": "python",
   "pygments_lexer": "ipython3",
   "version": "3.12.1"
  }
 },
 "nbformat": 4,
 "nbformat_minor": 2
}
